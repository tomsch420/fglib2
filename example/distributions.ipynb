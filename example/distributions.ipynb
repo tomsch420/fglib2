{
 "cells": [
  {
   "cell_type": "markdown",
   "source": [
    "# Multinomial Distributions\n",
    "\n",
    "The tutorial will showcase all the functionality of the multinomial distributions implemented in fglib2.\n",
    "\n",
    "First, let's create three discrete random variables to reason over. "
   ],
   "metadata": {
    "collapsed": false
   },
   "id": "744cce0cde3602b0"
  },
  {
   "cell_type": "code",
   "execution_count": 11,
   "id": "initial_id",
   "metadata": {
    "collapsed": true,
    "ExecuteTime": {
     "end_time": "2023-10-27T14:01:50.728322533Z",
     "start_time": "2023-10-27T14:01:50.704844528Z"
    }
   },
   "outputs": [
    {
     "data": {
      "text/plain": "(Symbolic(name='animal'), Symbolic(name='color'), Integer(name='weight'))"
     },
     "execution_count": 11,
     "metadata": {},
     "output_type": "execute_result"
    }
   ],
   "source": [
    "from random_events.variables import Symbolic, Integer\n",
    "animal = Symbolic(\"animal\", {\"Cat\", \"Mouse\", \"Dog\"})\n",
    "color = Symbolic(\"color\", {\"black\", \"white\", \"brown\", \"grey\"})\n",
    "weight = Integer(\"weight\", range(25))\n",
    "animal, color, weight"
   ]
  },
  {
   "cell_type": "markdown",
   "source": [
    "Next, we create a random, multinomial distribution over those variables. We will normalize the distribution, such that the sum of all probabilities in it is 1."
   ],
   "metadata": {
    "collapsed": false
   },
   "id": "c61493a3ce916589"
  },
  {
   "cell_type": "code",
   "execution_count": 12,
   "outputs": [
    {
     "data": {
      "text/plain": "((Symbolic(name='animal'), Symbolic(name='color'), Integer(name='weight')),\n (3, 4, 25))"
     },
     "execution_count": 12,
     "metadata": {},
     "output_type": "execute_result"
    }
   ],
   "source": [
    "from fglib2.distributions import Multinomial\n",
    "import numpy as np\n",
    "np.random.seed(69)\n",
    "\n",
    "distribution = Multinomial([animal, color, weight], np.random.rand(3, 4, 25), normalize=True)\n",
    "distribution.variables, distribution.probabilities.shape"
   ],
   "metadata": {
    "collapsed": false,
    "ExecuteTime": {
     "end_time": "2023-10-27T14:01:50.729911854Z",
     "start_time": "2023-10-27T14:01:50.709641607Z"
    }
   },
   "id": "b4658690bcc40b12"
  },
  {
   "cell_type": "markdown",
   "source": [
    "As we can see, the distribution first sorts the variables by name for consistent access. The shape of the probabilities is determined by the size of the domain of the distributions variables.\n",
    "Since animal has 3 possible values, color has 4 and age has 25 the shape is (3, 4, 25).\n",
    "It is also possible to create a not normalized distribution by setting normalize to false. \n",
    "\n",
    "Next, let's have a look at the 4 basic inference methods.\n",
    "For this, we will create an event and then use it for inference."
   ],
   "metadata": {
    "collapsed": false
   },
   "id": "7e07dad42c8de904"
  },
  {
   "cell_type": "code",
   "execution_count": 13,
   "outputs": [],
   "source": [
    "from random_events.events import Event\n",
    "event = Event({animal: {\"Cat\", \"Dog\"}, weight: range(10, 25)})"
   ],
   "metadata": {
    "collapsed": false,
    "ExecuteTime": {
     "end_time": "2023-10-27T14:01:50.754778675Z",
     "start_time": "2023-10-27T14:01:50.715655400Z"
    }
   },
   "id": "dffc7d500e84b520"
  },
  {
   "cell_type": "markdown",
   "source": [
    "The probability of such an event can be determined by using the `probability` method."
   ],
   "metadata": {
    "collapsed": false
   },
   "id": "d0ef5c6905bdeec2"
  },
  {
   "cell_type": "code",
   "execution_count": 14,
   "outputs": [
    {
     "data": {
      "text/plain": "0.37218590717704436"
     },
     "execution_count": 14,
     "metadata": {},
     "output_type": "execute_result"
    }
   ],
   "source": [
    "distribution.probability(event)"
   ],
   "metadata": {
    "collapsed": false,
    "ExecuteTime": {
     "end_time": "2023-10-27T14:01:50.755060623Z",
     "start_time": "2023-10-27T14:01:50.725150961Z"
    }
   },
   "id": "ee2f2d63802ad2d2"
  },
  {
   "cell_type": "markdown",
   "source": [
    "The most probable state(s) of a distribution is determined by using the `mode` method. The mode method returns two things. First, a list of all modes that exist in the distributions. If there would be multiple values inside the probabilities that are the maximum, the first return value of the method would return a list of length > 1. Second, the likelihood of the mode is returned. In discrete settings, the likelihood corresponds to the probability."
   ],
   "metadata": {
    "collapsed": false
   },
   "id": "d575ae681464335a"
  },
  {
   "cell_type": "code",
   "execution_count": 15,
   "outputs": [
    {
     "data": {
      "text/plain": "([{Symbolic(name='animal'): ('Cat',), Symbolic(name='color'): ('brown',), Integer(name='weight'): (5,)}],\n 0.006809245726270245)"
     },
     "execution_count": 15,
     "metadata": {},
     "output_type": "execute_result"
    }
   ],
   "source": [
    "distribution.mode()"
   ],
   "metadata": {
    "collapsed": false,
    "ExecuteTime": {
     "end_time": "2023-10-27T14:01:50.772976460Z",
     "start_time": "2023-10-27T14:01:50.766905031Z"
    }
   },
   "id": "e2994d27e8474c54"
  },
  {
   "cell_type": "markdown",
   "source": [
    "Next, the marginal distribution can be created by using the `marginal` method. The resulting distribution will lose the variables and their probabilities that are not in the list of given variables."
   ],
   "metadata": {
    "collapsed": false
   },
   "id": "e2e81941b34aafdd"
  },
  {
   "cell_type": "code",
   "execution_count": 16,
   "outputs": [
    {
     "data": {
      "text/plain": "((Symbolic(name='animal'), Symbolic(name='color')), (3, 4))"
     },
     "execution_count": 16,
     "metadata": {},
     "output_type": "execute_result"
    }
   ],
   "source": [
    "marginal = distribution.marginal([animal, color])\n",
    "marginal.variables, marginal.probabilities.shape"
   ],
   "metadata": {
    "collapsed": false,
    "ExecuteTime": {
     "end_time": "2023-10-27T14:01:50.773171427Z",
     "start_time": "2023-10-27T14:01:50.766995891Z"
    }
   },
   "id": "d5c35229158ee9c2"
  },
  {
   "cell_type": "markdown",
   "source": [
    "As we can see, the remaining variables are animal and color. The shape of the remaining probabilities is (3,4), just as the domain sizes of both variables dictate."
   ],
   "metadata": {
    "collapsed": false
   },
   "id": "d303480d522c05b7"
  },
  {
   "cell_type": "markdown",
   "source": [
    "Lastly, the `conditional` method conditions the distribution to an event. Everything outside the event gets impossible. It computes the probability space P( $\\cdot$ | E)."
   ],
   "metadata": {
    "collapsed": false
   },
   "id": "2beb7a1438d25707"
  },
  {
   "cell_type": "code",
   "execution_count": 17,
   "outputs": [
    {
     "data": {
      "text/plain": "1.0"
     },
     "execution_count": 17,
     "metadata": {},
     "output_type": "execute_result"
    }
   ],
   "source": [
    "conditional = distribution.conditional(event)\n",
    "conditional.probability(event)"
   ],
   "metadata": {
    "collapsed": false,
    "ExecuteTime": {
     "end_time": "2023-10-27T14:01:50.773313819Z",
     "start_time": "2023-10-27T14:01:50.767050781Z"
    }
   },
   "id": "5f036dc30b5cf18d"
  },
  {
   "cell_type": "markdown",
   "source": [
    "As we can see, the conditional distribution assigns 1. to the probability of the event it conditioned on."
   ],
   "metadata": {
    "collapsed": false
   },
   "id": "e0842e3d801bd15e"
  },
  {
   "cell_type": "markdown",
   "source": [
    "Bonus: Distributions can also be fancy printed on to tables:"
   ],
   "metadata": {
    "collapsed": false
   },
   "id": "fc87b0474f576e3"
  },
  {
   "cell_type": "code",
   "execution_count": 18,
   "outputs": [
    {
     "name": "stdout",
     "output_type": "stream",
     "text": [
      "╒══════════╤═════════╤═══════════╕\n",
      "│ animal   │ color   │         P │\n",
      "╞══════════╪═════════╪═══════════╡\n",
      "│ Cat      │ black   │ 0.0759703 │\n",
      "├──────────┼─────────┼───────────┤\n",
      "│ Cat      │ brown   │ 0.0672517 │\n",
      "├──────────┼─────────┼───────────┤\n",
      "│ Cat      │ grey    │ 0.101287  │\n",
      "├──────────┼─────────┼───────────┤\n",
      "│ Cat      │ white   │ 0.0702398 │\n",
      "├──────────┼─────────┼───────────┤\n",
      "│ Dog      │ black   │ 0.0943926 │\n",
      "├──────────┼─────────┼───────────┤\n",
      "│ Dog      │ brown   │ 0.0853249 │\n",
      "├──────────┼─────────┼───────────┤\n",
      "│ Dog      │ grey    │ 0.0900629 │\n",
      "├──────────┼─────────┼───────────┤\n",
      "│ Dog      │ white   │ 0.0684553 │\n",
      "├──────────┼─────────┼───────────┤\n",
      "│ Mouse    │ black   │ 0.0874334 │\n",
      "├──────────┼─────────┼───────────┤\n",
      "│ Mouse    │ brown   │ 0.0875107 │\n",
      "├──────────┼─────────┼───────────┤\n",
      "│ Mouse    │ grey    │ 0.0827272 │\n",
      "├──────────┼─────────┼───────────┤\n",
      "│ Mouse    │ white   │ 0.0893445 │\n",
      "╘══════════╧═════════╧═══════════╛\n"
     ]
    }
   ],
   "source": [
    "print(marginal.to_tabulate())"
   ],
   "metadata": {
    "collapsed": false,
    "ExecuteTime": {
     "end_time": "2023-10-27T14:01:50.773470554Z",
     "start_time": "2023-10-27T14:01:50.767116853Z"
    }
   },
   "id": "dcc9ca9e0f922e53"
  }
 ],
 "metadata": {
  "kernelspec": {
   "display_name": "Python 3",
   "language": "python",
   "name": "python3"
  },
  "language_info": {
   "codemirror_mode": {
    "name": "ipython",
    "version": 2
   },
   "file_extension": ".py",
   "mimetype": "text/x-python",
   "name": "python",
   "nbconvert_exporter": "python",
   "pygments_lexer": "ipython2",
   "version": "2.7.6"
  }
 },
 "nbformat": 4,
 "nbformat_minor": 5
}
