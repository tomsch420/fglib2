{
 "cells": [
  {
   "cell_type": "markdown",
   "source": [
    "# Quickstart to fglib2\n",
    "\n",
    "First, let us declare four variables with different domains each."
   ],
   "metadata": {
    "collapsed": false
   },
   "id": "155b96b89df61810"
  },
  {
   "cell_type": "code",
   "execution_count": 7,
   "outputs": [],
   "source": [
    "from random_events.variables import Symbolic\n",
    "\n",
    "x1 = Symbolic('x1', domain=range(2))\n",
    "x2 = Symbolic('x2', domain=range(3))\n",
    "x3 = Symbolic('x3', domain=range(4))\n",
    "x4 = Symbolic('x4', domain=range(5))"
   ],
   "metadata": {
    "collapsed": false,
    "ExecuteTime": {
     "end_time": "2023-10-31T09:16:33.220472339Z",
     "start_time": "2023-10-31T09:16:33.211022186Z"
    }
   },
   "id": "b857b83f5ae8482c"
  },
  {
   "cell_type": "markdown",
   "source": [
    "Next, let's create random factors for some pairs of variables. We can shortcut the creation of factors by using the `*` operator instead of adding the nodes and edges manually. "
   ],
   "metadata": {
    "collapsed": false
   },
   "id": "7ffcf51c1e699fd5"
  },
  {
   "cell_type": "code",
   "execution_count": 8,
   "outputs": [],
   "source": [
    "from fglib2.graphs import FactorNode\n",
    "from fglib2.distributions import Multinomial\n",
    "import numpy as np\n",
    "\n",
    "np.random.seed(420)\n",
    "\n",
    "f_x1_x2 = FactorNode(Multinomial([x1, x2], np.random.rand(len(x1.domain), len(x2.domain))))\n",
    "f_x2_x3 = FactorNode(Multinomial([x2, x3], np.random.rand(len(x2.domain), len(x3.domain))))\n",
    "f_x2_x4 = FactorNode(Multinomial([x2, x4], np.random.rand(len(x2.domain), len(x4.domain))))\n",
    "\n",
    "graph = f_x1_x2 * f_x2_x3 * f_x2_x4"
   ],
   "metadata": {
    "collapsed": false,
    "ExecuteTime": {
     "end_time": "2023-10-31T09:16:33.258978788Z",
     "start_time": "2023-10-31T09:16:33.258596129Z"
    }
   },
   "id": "97e60dbee16c1dbd"
  },
  {
   "cell_type": "markdown",
   "source": [
    "We can now draw the graph using ordinary networkx functions."
   ],
   "metadata": {
    "collapsed": false
   },
   "id": "3efffd0e9cf4903f"
  },
  {
   "cell_type": "code",
   "execution_count": 9,
   "outputs": [
    {
     "data": {
      "text/plain": "<Figure size 640x480 with 1 Axes>",
      "image/png": "[encoded data removed]"
     },
     "metadata": {},
     "output_type": "display_data"
    }
   ],
   "source": [
    "import networkx as nx\n",
    "nx.draw(graph, with_labels=True)"
   ],
   "metadata": {
    "collapsed": false,
    "ExecuteTime": {
     "end_time": "2023-10-31T09:16:33.274958224Z",
     "start_time": "2023-10-31T09:16:33.258879935Z"
    }
   },
   "id": "bc41f2e657f4f715"
  },
  {
   "cell_type": "markdown",
   "source": [
    "Calculating all marginal distributions is done by using the sum product algorithm."
   ],
   "metadata": {
    "collapsed": false
   },
   "id": "49cb617c5fd7f30e"
  },
  {
   "cell_type": "code",
   "execution_count": 10,
   "outputs": [
    {
     "name": "stdout",
     "output_type": "stream",
     "text": [
      "╒══════╤═════════╕\n",
      "│   x1 │       P │\n",
      "╞══════╪═════════╡\n",
      "│    0 │ 0.44998 │\n",
      "├──────┼─────────┤\n",
      "│    1 │ 0.55002 │\n",
      "╘══════╧═════════╛\n",
      "╒══════╤══════════╕\n",
      "│   x2 │        P │\n",
      "╞══════╪══════════╡\n",
      "│    0 │ 0.324403 │\n",
      "├──────┼──────────┤\n",
      "│    1 │ 0.169548 │\n",
      "├──────┼──────────┤\n",
      "│    2 │ 0.506049 │\n",
      "╘══════╧══════════╛\n",
      "╒══════╤═══════════╕\n",
      "│   x3 │         P │\n",
      "╞══════╪═══════════╡\n",
      "│    0 │ 0.333492  │\n",
      "├──────┼───────────┤\n",
      "│    1 │ 0.0419636 │\n",
      "├──────┼───────────┤\n",
      "│    2 │ 0.297586  │\n",
      "├──────┼───────────┤\n",
      "│    3 │ 0.326958  │\n",
      "╘══════╧═══════════╛\n",
      "╒══════╤══════════╕\n",
      "│   x4 │        P │\n",
      "╞══════╪══════════╡\n",
      "│    0 │ 0.211013 │\n",
      "├──────┼──────────┤\n",
      "│    1 │ 0.165152 │\n",
      "├──────┼──────────┤\n",
      "│    2 │ 0.198958 │\n",
      "├──────┼──────────┤\n",
      "│    3 │ 0.14797  │\n",
      "├──────┼──────────┤\n",
      "│    4 │ 0.276907 │\n",
      "╘══════╧══════════╛\n"
     ]
    }
   ],
   "source": [
    "graph.sum_product()\n",
    "for variable in graph.variables:\n",
    "    print(graph.belief(variable).to_tabulate())"
   ],
   "metadata": {
    "collapsed": false,
    "ExecuteTime": {
     "end_time": "2023-10-31T09:16:33.319109726Z",
     "start_time": "2023-10-31T09:16:33.277484723Z"
    }
   },
   "id": "47a7412bada04433"
  },
  {
   "cell_type": "markdown",
   "source": [
    "The joint most probable state of the graph is calculated by using the max product algorithm.\n",
    "The result is a random event that describes the most probable state."
   ],
   "metadata": {
    "collapsed": false
   },
   "id": "ce9779d3638d933a"
  },
  {
   "cell_type": "code",
   "execution_count": 11,
   "outputs": [
    {
     "name": "stdout",
     "output_type": "stream",
     "text": [
      "{Symbolic(name='x2'): (2,), Symbolic(name='x1'): (1,), Symbolic(name='x4'): (4,), Symbolic(name='x3'): (0,)}\n"
     ]
    }
   ],
   "source": [
    "graph.reset()\n",
    "print(graph.max_product())"
   ],
   "metadata": {
    "collapsed": false,
    "ExecuteTime": {
     "end_time": "2023-10-31T09:16:33.319755750Z",
     "start_time": "2023-10-31T09:16:33.318917680Z"
    }
   },
   "id": "72f3105bbcd8d99a"
  }
 ],
 "metadata": {
  "kernelspec": {
   "display_name": "Python 3",
   "language": "python",
   "name": "python3"
  },
  "language_info": {
   "codemirror_mode": {
    "name": "ipython",
    "version": 2
   },
   "file_extension": ".py",
   "mimetype": "text/x-python",
   "name": "python",
   "nbconvert_exporter": "python",
   "pygments_lexer": "ipython2",
   "version": "2.7.6"
  }
 },
 "nbformat": 4,
 "nbformat_minor": 5
}
